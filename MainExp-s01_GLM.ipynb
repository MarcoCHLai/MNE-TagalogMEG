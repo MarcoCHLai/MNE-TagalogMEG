{
 "cells": [
  {
   "cell_type": "markdown",
   "id": "418a6d73",
   "metadata": {},
   "source": [
    "# Setting"
   ]
  },
  {
   "cell_type": "code",
   "execution_count": 1,
   "id": "30386372",
   "metadata": {},
   "outputs": [],
   "source": [
    "# import libraries\n",
    "import mne, os, pickle, glob\n",
    "import numpy as np\n",
    "import pandas as pd\n",
    "import statsmodels.api as sm\n",
    "import matplotlib.pyplot as plt"
   ]
  },
  {
   "cell_type": "code",
   "execution_count": 2,
   "id": "b2d312f3",
   "metadata": {},
   "outputs": [],
   "source": [
    "# directories\n",
    "mri_dir  = os.path.realpath('../Data/mri')     # mri directory\n",
    "meg_dir  = os.path.realpath('../Data/meg-exp') # meg directory\n",
    "log_dir  = os.path.join(meg_dir, 'log')        # log directory\n",
    "stc_dir  = os.path.join(meg_dir, 'stc')        # stc directory\n",
    "mod_dir  = os.path.join(meg_dir, 'mod')        # GLM model directory\n",
    "res_dir  = os.path.join(meg_dir, 'res')        # results directory\n",
    "\n",
    "# subject list\n",
    "subjects = ['P049']"
   ]
  },
  {
   "cell_type": "markdown",
   "id": "e61aeb67",
   "metadata": {},
   "source": [
    "# GLM\n",
    "- model: intercep + 7 conditions + LogBaseFrequency + WordLength + accuracy + trial order\n",
    "- conditons: ArgStrViolNAG, ArgStrViolNA, CatViolNAG, CatViolNA, GrammNAG, GrammNA, Fillers"
   ]
  },
  {
   "cell_type": "markdown",
   "id": "f4ef465e",
   "metadata": {},
   "source": [
    "## define parameters"
   ]
  },
  {
   "cell_type": "code",
   "execution_count": 3,
   "id": "36b2c703",
   "metadata": {},
   "outputs": [],
   "source": [
    "# define event codes\n",
    "event_id  = dict(ArgStrViolNAG = 10, ArgStrViolNA = 20, \n",
    "                 CatViolNAG    = 30, CatViolNA    = 40, \n",
    "                 GrammNAG      = 50, GrammNA      = 60, \n",
    "                 Filler        = 70)\n",
    "cond_code = list(event_id.values())  # condition code\n",
    "cond_name = list(event_id.keys())    # condition name\n",
    "\n",
    "# define regressors (12 regressors)\n",
    "# constant + 7 conditions + LogBaseFrequency + WordLength + accuracy + trial order\n",
    "col_labels = cond_name.copy()\n",
    "col_labels.insert(0, 'constant')\n",
    "for item in ['LogBaseFreq', 'Length', 'RespACC', 'trial order']: col_labels.append(item)\n",
    "\n",
    "# define variables\n",
    "epoch_tmin = -0.1  # epoch onset\n",
    "epoch_tmax = 0.6   # epoch offset\n",
    "times      = np.arange(epoch_tmin*1000, epoch_tmax*1000+1, 1)\n",
    "n_cond     = len(cond_code)   # number of conditions\n",
    "n_reg      = len(col_labels)  # number of regressors\n",
    "n_times    = len(times)       # number of time points\n",
    "n_sources  = 5124             # number of sources"
   ]
  },
  {
   "cell_type": "markdown",
   "id": "43b0964c",
   "metadata": {},
   "source": [
    "## prep for model"
   ]
  },
  {
   "cell_type": "code",
   "execution_count": 4,
   "id": "feb0fe42",
   "metadata": {},
   "outputs": [
    {
     "name": "stdout",
     "output_type": "stream",
     "text": [
      "P049\n",
      "read log...\n"
     ]
    }
   ],
   "source": [
    "subj = subjects[0]\n",
    "print(subj)\n",
    "print('read log...')\n",
    "\n",
    "# read stimuli parameters\n",
    "stim_fname = os.path.join(log_dir, 'stim_param.csv')\n",
    "df_stim    = pd.read_csv(stim_fname, sep=',')\n",
    "\n",
    "# read log file\n",
    "log_fname = os.path.join(log_dir, '%s_SAVANTTAG_log.csv') %(subj)\n",
    "log_df    = pd.read_csv(log_fname, sep=',')\n",
    "n_total   = log_df.shape[0]                              # number of total trials\n",
    "\n",
    "# keep good trials (exlude trials with artifact)\n",
    "keep_list = log_df['accept'] == 1                        # look for good trials (accept==1)\n",
    "log_keep  = log_df[keep_list]\n",
    "n_trl     = log_keep.shape[0]                            # number of good trials\n",
    "\n",
    "# retrieve stimuli parameters for good trials\n",
    "item_idx  = pd.Index(log_keep.itemcode)                  # item codes of good trials\n",
    "stim_keep = df_stim[df_stim['itemcode'].isin(item_idx)]  # subset of stimuli parameters of good trials\n",
    "stim_keep = stim_keep.set_index('itemcode').loc[item_idx].reset_index()\n",
    "log_subj  = pd.merge(log_keep, stim_keep)                # combine behavioral log and stimuli parameters\n",
    "\n",
    "# create function to center data\n",
    "center_function = lambda x: x - x.mean()\n",
    "# centering stimuli parameters\n",
    "LogBaseFreq_centered = center_function(np.log(log_subj['BaseFreq'].values))\n",
    "Len_centered         = center_function(log_subj['Length'].values)\n",
    "\n",
    "# prep for design matrix and stc data\n",
    "trl_list   = log_subj['trial'].values              # trial number\n",
    "cond_list  = log_subj['cond'].values               # condition\n",
    "resp_list  = (log_subj['resp'].values == 'hit')*1  # trial accuracy \n",
    "design_mtx = np.zeros((n_trl, n_reg-1))            # create an empty design matrix\n",
    "data_mtx   = np.empty((n_sources, n_times, n_trl)) # source x time x trial\n",
    "\n",
    "# recode conditions\n",
    "recode_list = [71, 80, 81, 90, 91]\n",
    "for rc_count, rc in enumerate(recode_list):\n",
    "    recode_idx = np.where(cond_list == rc)[0]\n",
    "    cond_list[recode_idx] = 70"
   ]
  },
  {
   "cell_type": "markdown",
   "id": "3c3a46e0",
   "metadata": {},
   "source": [
    "## load single-trial stc data & model building"
   ]
  },
  {
   "cell_type": "code",
   "execution_count": 5,
   "id": "25cb53f1",
   "metadata": {},
   "outputs": [
    {
     "name": "stdout",
     "output_type": "stream",
     "text": [
      "load stc...\n"
     ]
    }
   ],
   "source": [
    "# subject folder\n",
    "subj_dir = os.path.join(stc_dir, '%s') %(subj)\n",
    "os.chdir(subj_dir)\n",
    "\n",
    "# load stc\n",
    "print('load stc...')\n",
    "for i, trl in enumerate(trl_list):\n",
    "\n",
    "    # assign values to design matrix\n",
    "    cond_num = cond_list[i]\n",
    "    cond_col = cond_code.index(cond_num)\n",
    "    design_mtx[i, cond_col] = 1\n",
    "    design_mtx[i, n_cond]   = LogBaseFreq_centered[i]\n",
    "    design_mtx[i, n_cond+1] = Len_centered[i]\n",
    "    design_mtx[i, n_cond+2] = resp_list[i]\n",
    "    design_mtx[i, -1] = trl/n_total\n",
    "\n",
    "    # stc data\n",
    "    glob_name = '%s_trl-%s_*.stc' %(subj, str(trl).rjust(3,'0'))\n",
    "    stc_fname = sorted(glob.glob(glob_name))[0]\n",
    "    stc = mne.read_source_estimate(stc_fname)\n",
    "    data_mtx[:,:,i] = stc.data.copy()\n",
    "    \n",
    "# add constant to the design matrix\n",
    "# 12 regressors: intercept + 7 conditions + LogBaseFrequency + WordLength + accuracy + trial order\n",
    "X = sm.add_constant(design_mtx)"
   ]
  },
  {
   "cell_type": "markdown",
   "id": "53c269ee",
   "metadata": {},
   "source": [
    "## visualizing design matrix"
   ]
  },
  {
   "cell_type": "code",
   "execution_count": 6,
   "id": "b53b83c0",
   "metadata": {},
   "outputs": [
    {
     "data": {
      "image/png": "[encoded data removed]",
      "text/plain": [
       "<Figure size 600x600 with 1 Axes>"
      ]
     },
     "metadata": {},
     "output_type": "display_data"
    }
   ],
   "source": [
    "plt.figure(figsize=(6,6))\n",
    "plt.imshow(X, cmap='Blues', vmin=0, vmax=1, interpolation='nearest', aspect='auto')\n",
    "plt.xlabel('regressors', fontsize=20)\n",
    "plt.ylabel('trial number', fontsize=20)\n",
    "plt.xticks(ticks=np.arange(0,n_reg)-0.2, labels=col_labels, rotation=-60, ha='left')\n",
    "plt.tick_params(axis='both', length=0, pad=8, labelsize=10)\n",
    "plt.show()"
   ]
  },
  {
   "cell_type": "markdown",
   "id": "d2b05400",
   "metadata": {},
   "source": [
    "## model fitting"
   ]
  },
  {
   "cell_type": "code",
   "execution_count": 7,
   "id": "12d4cd45",
   "metadata": {},
   "outputs": [
    {
     "name": "stdout",
     "output_type": "stream",
     "text": [
      "model fitting...\n",
      "0 100 200 300 400 500 600 700 800 900 1000 1100 1200 1300 1400 1500 1600 1700 1800 1900 2000 2100 2200 2300 2400 2500 2600 2700 2800 2900 3000 3100 3200 3300 3400 3500 3600 3700 3800 3900 4000 4100 4200 4300 4400 4500 4600 4700 4800 4900 5000 5100 "
     ]
    }
   ],
   "source": [
    "# create an empty matrix for storing beta coefficients from GLM\n",
    "b_map = np.empty((n_sources, n_times, n_reg))\n",
    "    \n",
    "# model fitting\n",
    "print('model fitting...')\n",
    "for v in range(n_sources):\n",
    "\n",
    "    if v%100 == 0:\n",
    "        print(v, end=' ')\n",
    "    \n",
    "    # fitting GLM model to the data values at each time point for each vertex\n",
    "    for t in range(n_times):\n",
    "        y   = data_mtx[v,t,:]      # dimensions: source x time x item\n",
    "        est = sm.OLS(y, X).fit()\n",
    "        b_map[v,t,:] = est.params  # dimensions: source x time x regressor\n",
    "\n",
    "# save beta map\n",
    "b_fname = os.path.join(mod_dir, '%s_reg%s_b-map.npy') %(subj, n_reg)\n",
    "np.save(b_fname, b_map)"
   ]
  }
 ],
 "metadata": {
  "kernelspec": {
   "display_name": "Python 3 (ipykernel)",
   "language": "python",
   "name": "python3"
  },
  "language_info": {
   "codemirror_mode": {
    "name": "ipython",
    "version": 3
   },
   "file_extension": ".py",
   "mimetype": "text/x-python",
   "name": "python",
   "nbconvert_exporter": "python",
   "pygments_lexer": "ipython3",
   "version": "3.8.16"
  }
 },
 "nbformat": 4,
 "nbformat_minor": 5
}
